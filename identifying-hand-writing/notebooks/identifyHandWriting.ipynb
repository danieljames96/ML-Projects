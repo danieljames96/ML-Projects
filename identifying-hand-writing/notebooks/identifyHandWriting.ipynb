{
 "cells": [
  {
   "cell_type": "markdown",
   "metadata": {},
   "source": [
    "## Identifying handwritten digits using Logistic Regression in PyTorch"
   ]
  },
  {
   "cell_type": "markdown",
   "metadata": {},
   "source": [
    "### Import Libraries"
   ]
  },
  {
   "cell_type": "code",
   "execution_count": 1,
   "metadata": {},
   "outputs": [],
   "source": [
    "import torch \n",
    "import torch.nn as nn \n",
    "import torchvision.datasets as dsets \n",
    "import torchvision.transforms as transforms \n",
    "from torch.autograd import Variable"
   ]
  },
  {
   "cell_type": "code",
   "execution_count": 2,
   "metadata": {},
   "outputs": [
    {
     "data": {
      "text/plain": [
       "'cuda'"
      ]
     },
     "execution_count": 2,
     "metadata": {},
     "output_type": "execute_result"
    }
   ],
   "source": [
    "device = 'cuda' if torch.cuda.is_available() else 'gpu'\n",
    "device"
   ]
  },
  {
   "cell_type": "markdown",
   "metadata": {},
   "source": [
    "### Reading the Data"
   ]
  },
  {
   "cell_type": "code",
   "execution_count": 3,
   "metadata": {},
   "outputs": [],
   "source": [
    "# Hyper Parameters  \n",
    "input_size = 784 # Image size is 28x28\n",
    "num_classes = 10 # 10 digits\n",
    "num_epochs = 5\n",
    "batch_size = 100 # prevent memory overflow\n",
    "learning_rate = 0.001\n",
    "path = r'../dataset'"
   ]
  },
  {
   "cell_type": "code",
   "execution_count": 4,
   "metadata": {},
   "outputs": [],
   "source": [
    "# MNIST Dataset (Images and Labels) \n",
    "train_dataset = dsets.MNIST(root = path,  \n",
    "                            train = True,  \n",
    "                            transform = transforms.ToTensor(), \n",
    "                            download = True) \n",
    "  \n",
    "test_dataset = dsets.MNIST(root = path,  \n",
    "                           train = False,  \n",
    "                           transform = transforms.ToTensor()) \n",
    "  \n",
    "# Dataset Loader (Input Pipeline) \n",
    "train_loader = torch.utils.data.DataLoader(dataset = train_dataset,  \n",
    "                                           batch_size = batch_size,  \n",
    "                                           shuffle = True) \n",
    "  \n",
    "test_loader = torch.utils.data.DataLoader(dataset = test_dataset,  \n",
    "                                          batch_size = batch_size,  \n",
    "                                          shuffle = False)"
   ]
  },
  {
   "cell_type": "markdown",
   "metadata": {},
   "source": [
    "### Build Model"
   ]
  },
  {
   "cell_type": "code",
   "execution_count": 5,
   "metadata": {},
   "outputs": [],
   "source": [
    "class LogisticRegression(nn.Module): \n",
    "    def __init__(self, input_size, num_classes): \n",
    "        super().__init__() \n",
    "        self.linear = nn.Linear(input_size, num_classes)\n",
    "  \n",
    "    def forward(self, x): \n",
    "        out = self.linear(x) # the softmax is internally calculated during each forward pass and hence we do not need to specify it inside the forward() function\n",
    "        return out "
   ]
  },
  {
   "cell_type": "code",
   "execution_count": 15,
   "metadata": {},
   "outputs": [],
   "source": [
    "class ConvNet(nn.Module):\n",
    "    def __init__(self, num_classes=10):\n",
    "        super(ConvNet, self).__init__()\n",
    "        self.layer1 = nn.Sequential(\n",
    "            nn.Conv2d(1, 16, kernel_size=5, stride=1, padding=2),\n",
    "            nn.BatchNorm2d(16),\n",
    "            nn.ReLU(),\n",
    "            nn.MaxPool2d(kernel_size=2, stride=2))\n",
    "        self.layer2 = nn.Sequential(\n",
    "            nn.Conv2d(16, 32, kernel_size=5, stride=1, padding=2),\n",
    "            nn.BatchNorm2d(32),\n",
    "            nn.ReLU(),\n",
    "            nn.MaxPool2d(kernel_size=2, stride=2))\n",
    "        self.fc = nn.Linear(7*7*32, num_classes)\n",
    "\n",
    "    def forward(self, x):\n",
    "        out = self.layer1(x)\n",
    "        out = self.layer2(out)\n",
    "        out = out.view(out.size(0), -1)  # Flatten the tensor\n",
    "        out = self.fc(out)\n",
    "        return out"
   ]
  },
  {
   "cell_type": "code",
   "execution_count": 7,
   "metadata": {},
   "outputs": [],
   "source": [
    "model1 = LogisticRegression(input_size, num_classes).to(device)"
   ]
  },
  {
   "cell_type": "code",
   "execution_count": 17,
   "metadata": {},
   "outputs": [],
   "source": [
    "model2 = ConvNet(num_classes).to(device)"
   ]
  },
  {
   "cell_type": "markdown",
   "metadata": {},
   "source": [
    "### Loss Function and Optimizer"
   ]
  },
  {
   "cell_type": "code",
   "execution_count": 18,
   "metadata": {},
   "outputs": [],
   "source": [
    "loss_fn = nn.CrossEntropyLoss() \n",
    "optimizer = torch.optim.SGD(model2.parameters(), lr = learning_rate) "
   ]
  },
  {
   "cell_type": "markdown",
   "metadata": {},
   "source": [
    "### Training\n",
    "\n",
    "1. Reset all gradients to 0.\n",
    "2. Make a forward pass.\n",
    "3. Calculate the loss.\n",
    "4. Perform backpropagation.\n",
    "5. Update all weights."
   ]
  },
  {
   "cell_type": "code",
   "execution_count": 21,
   "metadata": {},
   "outputs": [
    {
     "name": "stdout",
     "output_type": "stream",
     "text": [
      "Epoch [1/5], Step [100/600], Loss: 1.2331\n",
      "Epoch [1/5], Step [200/600], Loss: 0.8276\n",
      "Epoch [1/5], Step [300/600], Loss: 0.6686\n",
      "Epoch [1/5], Step [400/600], Loss: 0.5136\n",
      "Epoch [1/5], Step [500/600], Loss: 0.5889\n",
      "Epoch [1/5], Step [600/600], Loss: 0.4266\n",
      "Epoch [2/5], Step [100/600], Loss: 0.3687\n",
      "Epoch [2/5], Step [200/600], Loss: 0.3629\n",
      "Epoch [2/5], Step [300/600], Loss: 0.4064\n",
      "Epoch [2/5], Step [400/600], Loss: 0.2378\n",
      "Epoch [2/5], Step [500/600], Loss: 0.3001\n",
      "Epoch [2/5], Step [600/600], Loss: 0.2727\n",
      "Epoch [3/5], Step [100/600], Loss: 0.2839\n",
      "Epoch [3/5], Step [200/600], Loss: 0.2595\n",
      "Epoch [3/5], Step [300/600], Loss: 0.2963\n",
      "Epoch [3/5], Step [400/600], Loss: 0.2010\n",
      "Epoch [3/5], Step [500/600], Loss: 0.1330\n",
      "Epoch [3/5], Step [600/600], Loss: 0.3175\n",
      "Epoch [4/5], Step [100/600], Loss: 0.2267\n",
      "Epoch [4/5], Step [200/600], Loss: 0.2116\n",
      "Epoch [4/5], Step [300/600], Loss: 0.2220\n",
      "Epoch [4/5], Step [400/600], Loss: 0.2190\n",
      "Epoch [4/5], Step [500/600], Loss: 0.3008\n",
      "Epoch [4/5], Step [600/600], Loss: 0.1307\n",
      "Epoch [5/5], Step [100/600], Loss: 0.1956\n",
      "Epoch [5/5], Step [200/600], Loss: 0.1422\n",
      "Epoch [5/5], Step [300/600], Loss: 0.2031\n",
      "Epoch [5/5], Step [400/600], Loss: 0.1449\n",
      "Epoch [5/5], Step [500/600], Loss: 0.1479\n",
      "Epoch [5/5], Step [600/600], Loss: 0.1908\n"
     ]
    }
   ],
   "source": [
    "# Training the Model\n",
    "for epoch in range(num_epochs):\n",
    "    for i, (images, labels) in enumerate(train_loader):\n",
    "        # Reshape images to (batch_size, input_size)\n",
    "        # images = images.view(-1, 28*28)  # Flatten the images\n",
    "        \n",
    "        # Move images and labels to the appropriate device (e.g., GPU if available)\n",
    "        images = images.to(device)\n",
    "        labels = labels.to(device)\n",
    "\n",
    "        # Forward pass: compute the model output\n",
    "        outputs = model2(images)\n",
    "        \n",
    "        # Compute the loss\n",
    "        loss = loss_fn(outputs, labels)\n",
    "        \n",
    "        # Zero the gradients before running the backward pass\n",
    "        optimizer.zero_grad()\n",
    "        \n",
    "        # Backward pass: compute gradient of the loss with respect to model parameters\n",
    "        loss.backward()\n",
    "        \n",
    "        # Perform a single optimization step (parameter update)\n",
    "        optimizer.step()\n",
    "        \n",
    "        # Print statistics\n",
    "        if (i + 1) % 100 == 0:\n",
    "            print('Epoch [{}/{}], Step [{}/{}], Loss: {:.4f}'.format(\n",
    "                epoch + 1, num_epochs, i + 1, len(train_dataset) // batch_size, loss.item()))"
   ]
  },
  {
   "cell_type": "markdown",
   "metadata": {},
   "source": [
    "### Testing the model"
   ]
  },
  {
   "cell_type": "code",
   "execution_count": 24,
   "metadata": {},
   "outputs": [
    {
     "name": "stdout",
     "output_type": "stream",
     "text": [
      "Accuracy of the model on the 10000 test images: 96 %\n"
     ]
    }
   ],
   "source": [
    "# Test the Model\n",
    "correct = 0\n",
    "total = 0\n",
    "for images, labels in test_loader:\n",
    "    \n",
    "    # Move images and labels to the appropriate device (e.g., GPU if available)\n",
    "    images = images.to(device)\n",
    "    labels = labels.to(device)\n",
    "    \n",
    "    # Reshape and predict\n",
    "    # images = images.view(-1, 28 * 28)\n",
    "    outputs = model2(images)\n",
    "    \n",
    "    # Get predictions from the maximum value\n",
    "    _, predicted = torch.max(outputs, 1)\n",
    "    \n",
    "    # Total number of labels\n",
    "    total += labels.size(0)\n",
    "    \n",
    "    # Total correct predictions\n",
    "    correct += (predicted == labels).sum().item()\n",
    "\n",
    "# Calculate accuracy\n",
    "accuracy = 100 * correct / total\n",
    "print('Accuracy of the model on the 10000 test images: %d %%' % accuracy)"
   ]
  }
 ],
 "metadata": {
  "kernelspec": {
   "display_name": "base",
   "language": "python",
   "name": "python3"
  },
  "language_info": {
   "codemirror_mode": {
    "name": "ipython",
    "version": 3
   },
   "file_extension": ".py",
   "mimetype": "text/x-python",
   "name": "python",
   "nbconvert_exporter": "python",
   "pygments_lexer": "ipython3",
   "version": "3.11.2"
  }
 },
 "nbformat": 4,
 "nbformat_minor": 2
}
