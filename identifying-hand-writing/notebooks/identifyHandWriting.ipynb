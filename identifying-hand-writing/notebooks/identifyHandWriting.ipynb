{
 "cells": [
  {
   "cell_type": "markdown",
   "metadata": {},
   "source": [
    "## Identifying handwritten digits using Logistic Regression in PyTorch"
   ]
  },
  {
   "cell_type": "markdown",
   "metadata": {},
   "source": [
    "### Import Libraries"
   ]
  },
  {
   "cell_type": "code",
   "execution_count": 31,
   "metadata": {},
   "outputs": [],
   "source": [
    "import torch \n",
    "import torch.nn as nn \n",
    "import torchvision.datasets as dsets \n",
    "import torchvision.transforms as transforms \n",
    "from torch.autograd import Variable"
   ]
  },
  {
   "cell_type": "code",
   "execution_count": 32,
   "metadata": {},
   "outputs": [
    {
     "data": {
      "text/plain": [
       "'cuda'"
      ]
     },
     "execution_count": 32,
     "metadata": {},
     "output_type": "execute_result"
    }
   ],
   "source": [
    "device = 'cuda' if torch.cuda.is_available() else 'gpu'\n",
    "device"
   ]
  },
  {
   "cell_type": "markdown",
   "metadata": {},
   "source": [
    "### Reading the Data"
   ]
  },
  {
   "cell_type": "code",
   "execution_count": 33,
   "metadata": {},
   "outputs": [],
   "source": [
    "# Hyper Parameters  \n",
    "input_size = 784 # Image size is 28x28\n",
    "num_classes = 10 # 10 digits\n",
    "num_epochs = 5\n",
    "batch_size = 100 # prevent memory overflow\n",
    "learning_rate = 0.001\n",
    "path = r'../dataset'"
   ]
  },
  {
   "cell_type": "code",
   "execution_count": 34,
   "metadata": {},
   "outputs": [],
   "source": [
    "# MNIST Dataset (Images and Labels) \n",
    "train_dataset = dsets.MNIST(root = path,  \n",
    "                            train = True,  \n",
    "                            transform = transforms.ToTensor(), \n",
    "                            download = True) \n",
    "  \n",
    "test_dataset = dsets.MNIST(root = path,  \n",
    "                           train = False,  \n",
    "                           transform = transforms.ToTensor()) \n",
    "  \n",
    "# Dataset Loader (Input Pipeline) \n",
    "train_loader = torch.utils.data.DataLoader(dataset = train_dataset,  \n",
    "                                           batch_size = batch_size,  \n",
    "                                           shuffle = True) \n",
    "  \n",
    "test_loader = torch.utils.data.DataLoader(dataset = test_dataset,  \n",
    "                                          batch_size = batch_size,  \n",
    "                                          shuffle = False)"
   ]
  },
  {
   "cell_type": "markdown",
   "metadata": {},
   "source": [
    "### Build Model"
   ]
  },
  {
   "cell_type": "code",
   "execution_count": 35,
   "metadata": {},
   "outputs": [],
   "source": [
    "class LogisticRegression(nn.Module): \n",
    "    def __init__(self, input_size, num_classes): \n",
    "        super().__init__() \n",
    "        self.linear = nn.Linear(input_size, num_classes)\n",
    "  \n",
    "    def forward(self, x): \n",
    "        out = self.linear(x) # the softmax is internally calculated during each forward pass and hence we do not need to specify it inside the forward() function\n",
    "        return out "
   ]
  },
  {
   "cell_type": "code",
   "execution_count": 36,
   "metadata": {},
   "outputs": [],
   "source": [
    "model = LogisticRegression(input_size, num_classes).to(device)"
   ]
  },
  {
   "cell_type": "markdown",
   "metadata": {},
   "source": [
    "### Loss Function and Optimizer"
   ]
  },
  {
   "cell_type": "code",
   "execution_count": 37,
   "metadata": {},
   "outputs": [],
   "source": [
    "loss_fn = nn.CrossEntropyLoss() \n",
    "optimizer = torch.optim.SGD(model.parameters(), lr = learning_rate) "
   ]
  },
  {
   "cell_type": "markdown",
   "metadata": {},
   "source": [
    "### Training\n",
    "\n",
    "1. Reset all gradients to 0.\n",
    "2. Make a forward pass.\n",
    "3. Calculate the loss.\n",
    "4. Perform backpropagation.\n",
    "5. Update all weights."
   ]
  },
  {
   "cell_type": "code",
   "execution_count": 38,
   "metadata": {},
   "outputs": [
    {
     "name": "stdout",
     "output_type": "stream",
     "text": [
      "Epoch [1/5], Step [100/600], Loss: 2.1836\n",
      "Epoch [1/5], Step [200/600], Loss: 2.0581\n",
      "Epoch [1/5], Step [300/600], Loss: 1.9743\n",
      "Epoch [1/5], Step [400/600], Loss: 1.9440\n",
      "Epoch [1/5], Step [500/600], Loss: 1.8317\n",
      "Epoch [1/5], Step [600/600], Loss: 1.7531\n",
      "Epoch [2/5], Step [100/600], Loss: 1.6835\n",
      "Epoch [2/5], Step [200/600], Loss: 1.6919\n",
      "Epoch [2/5], Step [300/600], Loss: 1.5906\n",
      "Epoch [2/5], Step [400/600], Loss: 1.5961\n",
      "Epoch [2/5], Step [500/600], Loss: 1.5112\n",
      "Epoch [2/5], Step [600/600], Loss: 1.4292\n",
      "Epoch [3/5], Step [100/600], Loss: 1.3742\n",
      "Epoch [3/5], Step [200/600], Loss: 1.3390\n",
      "Epoch [3/5], Step [300/600], Loss: 1.4428\n",
      "Epoch [3/5], Step [400/600], Loss: 1.3021\n",
      "Epoch [3/5], Step [500/600], Loss: 1.1554\n",
      "Epoch [3/5], Step [600/600], Loss: 1.3362\n",
      "Epoch [4/5], Step [100/600], Loss: 1.1711\n",
      "Epoch [4/5], Step [200/600], Loss: 1.1827\n",
      "Epoch [4/5], Step [300/600], Loss: 1.0618\n",
      "Epoch [4/5], Step [400/600], Loss: 1.1382\n",
      "Epoch [4/5], Step [500/600], Loss: 1.1993\n",
      "Epoch [4/5], Step [600/600], Loss: 1.0374\n",
      "Epoch [5/5], Step [100/600], Loss: 1.0168\n",
      "Epoch [5/5], Step [200/600], Loss: 1.1065\n",
      "Epoch [5/5], Step [300/600], Loss: 0.9894\n",
      "Epoch [5/5], Step [400/600], Loss: 0.9999\n",
      "Epoch [5/5], Step [500/600], Loss: 0.9894\n",
      "Epoch [5/5], Step [600/600], Loss: 0.9793\n"
     ]
    }
   ],
   "source": [
    "# Training the Model\n",
    "for epoch in range(num_epochs):\n",
    "    for i, (images, labels) in enumerate(train_loader):\n",
    "        # Reshape images to (batch_size, input_size)\n",
    "        images = images.view(-1, 28*28)  # Flatten the images\n",
    "        \n",
    "        # Move images and labels to the appropriate device (e.g., GPU if available)\n",
    "        images = images.to(device)\n",
    "        labels = labels.to(device)\n",
    "\n",
    "        # Forward pass: compute the model output\n",
    "        outputs = model(images)\n",
    "        \n",
    "        # Compute the loss\n",
    "        loss = loss_fn(outputs, labels)\n",
    "        \n",
    "        # Zero the gradients before running the backward pass\n",
    "        optimizer.zero_grad()\n",
    "        \n",
    "        # Backward pass: compute gradient of the loss with respect to model parameters\n",
    "        loss.backward()\n",
    "        \n",
    "        # Perform a single optimization step (parameter update)\n",
    "        optimizer.step()\n",
    "        \n",
    "        # Print statistics\n",
    "        if (i + 1) % 100 == 0:\n",
    "            print('Epoch [{}/{}], Step [{}/{}], Loss: {:.4f}'.format(\n",
    "                epoch + 1, num_epochs, i + 1, len(train_dataset) // batch_size, loss.item()))"
   ]
  },
  {
   "cell_type": "markdown",
   "metadata": {},
   "source": [
    "### Testing the model"
   ]
  },
  {
   "cell_type": "code",
   "execution_count": 28,
   "metadata": {},
   "outputs": [
    {
     "name": "stdout",
     "output_type": "stream",
     "text": [
      "Accuracy of the model on the 10000 test images: 82 %\n"
     ]
    }
   ],
   "source": [
    "# Test the Model\n",
    "correct = 0\n",
    "total = 0\n",
    "for images, labels in test_loader:\n",
    "    \n",
    "    # Move images and labels to the appropriate device (e.g., GPU if available)\n",
    "    images = images.to(device)\n",
    "    labels = labels.to(device)\n",
    "    \n",
    "    # Reshape and predict\n",
    "    images = images.view(-1, 28 * 28)\n",
    "    outputs = model(images)\n",
    "    \n",
    "    # Get predictions from the maximum value\n",
    "    _, predicted = torch.max(outputs, 1)\n",
    "    \n",
    "    # Total number of labels\n",
    "    total += labels.size(0)\n",
    "    \n",
    "    # Total correct predictions\n",
    "    correct += (predicted == labels).sum().item()\n",
    "\n",
    "# Calculate accuracy\n",
    "accuracy = 100 * correct / total\n",
    "print('Accuracy of the model on the 10000 test images: %d %%' % accuracy)"
   ]
  }
 ],
 "metadata": {
  "kernelspec": {
   "display_name": "base",
   "language": "python",
   "name": "python3"
  },
  "language_info": {
   "codemirror_mode": {
    "name": "ipython",
    "version": 3
   },
   "file_extension": ".py",
   "mimetype": "text/x-python",
   "name": "python",
   "nbconvert_exporter": "python",
   "pygments_lexer": "ipython3",
   "version": "3.11.2"
  }
 },
 "nbformat": 4,
 "nbformat_minor": 2
}
